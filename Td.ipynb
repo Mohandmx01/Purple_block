{
  "nbformat": 4,
  "nbformat_minor": 0,
  "metadata": {
    "colab": {
      "provenance": []
    },
    "kernelspec": {
      "name": "python3",
      "display_name": "Python 3"
    },
    "language_info": {
      "name": "python"
    }
  },
  "cells": [
    {
      "cell_type": "code",
      "source": [
        "def trade(prices):\n",
        "    buy_price = min(prices)\n",
        "    sell_price = max(prices[prices.index(buy_price):])\n",
        "    return buy_price, sell_price\n",
        "\n",
        "prices = [5, 2, 1, 6, 9, 7]\n",
        "buy, sell = trade(prices)\n",
        "print(trade(prices))\n",
        "print(\"Best Buy Price:\", buy)\n",
        "print(\"Best Sell Price:\", sell)"
      ],
      "metadata": {
        "colab": {
          "base_uri": "https://localhost:8080/"
        },
        "id": "fd_aJNhAnbi7",
        "outputId": "5b5aab5a-4486-4da7-9721-d505ef53233b"
      },
      "execution_count": 6,
      "outputs": [
        {
          "output_type": "stream",
          "name": "stdout",
          "text": [
            "(1, 9)\n",
            "Best Buy Price: 1\n",
            "Best Sell Price: 9\n"
          ]
        }
      ]
    }
  ]
}